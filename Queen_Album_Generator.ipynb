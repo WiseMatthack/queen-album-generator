{
  "nbformat": 4,
  "nbformat_minor": 0,
  "metadata": {
    "colab": {
      "name": "Queen Album Generator.ipynb",
      "private_outputs": true,
      "provenance": [],
      "collapsed_sections": [],
      "toc_visible": true,
      "authorship_tag": "ABX9TyMSQex72NPoQdI1A5+v/YlK",
      "include_colab_link": true
    },
    "kernelspec": {
      "name": "python3",
      "display_name": "Python 3"
    }
  },
  "cells": [
    {
      "cell_type": "markdown",
      "metadata": {
        "id": "view-in-github",
        "colab_type": "text"
      },
      "source": [
        "<a href=\"https://colab.research.google.com/github/WiseMatthack/queen-album-generator/blob/main/Queen_Album_Generator.ipynb\" target=\"_parent\"><img src=\"https://colab.research.google.com/assets/colab-badge.svg\" alt=\"Open In Colab\"/></a>"
      ]
    },
    {
      "cell_type": "markdown",
      "metadata": {
        "id": "-mSVUr0DNnl_"
      },
      "source": [
        "# **Queen Album Generator**\r\n",
        "Made by your devolved Matthack.\r\n",
        "\r\n",
        "Using this machine learning tool, you will be able to generate your **complete** Queen albums !\r\n",
        "\r\n",
        "Please click on the small \"run\" button to the left of each cell in order after the execution of the previous cell is completed."
      ]
    },
    {
      "cell_type": "code",
      "metadata": {
        "cellView": "form",
        "id": "5ZtbSluhNlLg"
      },
      "source": [
        "#@title Requirements\r\n",
        "!pip install markovify"
      ],
      "execution_count": null,
      "outputs": []
    },
    {
      "cell_type": "code",
      "metadata": {
        "cellView": "form",
        "id": "Avi3k9DvOB5Z"
      },
      "source": [
        "#@title Generate Album  --- **RUN THIS EVERYTIME BEFORE GENERATING SONG LYRICS**\n",
        "\n",
        "import markovify\n",
        "import random\n",
        "import time\n",
        "from math import *\n",
        "import requests\n",
        "from numpy.random import multinomial\n",
        "\n",
        "# Get files\n",
        "queen_url = 'https://raw.githubusercontent.com/WiseMatthack/queen-album-generator/main/queen.txt'\n",
        "title_url = 'https://raw.githubusercontent.com/WiseMatthack/queen-album-generator/main/titresqueen.txt'\n",
        "album_url = 'https://raw.githubusercontent.com/WiseMatthack/queen-album-generator/main/album.txt'\n",
        "\n",
        "queen_request = requests.get(queen_url, allow_redirects=True)\n",
        "title_request = requests.get(title_url, allow_redirects=True)\n",
        "album_request = requests.get(album_url, allow_redirects=True)\n",
        "\n",
        "open('queen.txt', 'wb').write(queen_request.content)\n",
        "open('titresqueen.txt', 'wb').write(title_request.content)\n",
        "open('album.txt', 'wb').write(album_request.content)\n",
        "\n",
        "# Lyrics (using markovify)\n",
        "\n",
        "with open('queen.txt') as f:\n",
        "    paroles = f.read()\n",
        "\n",
        "paroles_model = markovify.NewlineText(paroles)\n",
        "    \n",
        "# Song title (using markovify too)\n",
        "\n",
        "with open('titresqueen.txt') as f:\n",
        "    titre = f.read()\n",
        "\n",
        "titre_model = markovify.NewlineText(titre)\n",
        "\n",
        "# Album title (still using markovify)\n",
        "\n",
        "with open('album.txt') as f:\n",
        "    album = f.read()\n",
        "\n",
        "album_model = markovify.NewlineText(album)\n",
        "\n",
        "def convert(seconds): \n",
        "\tmin, sec = divmod(seconds, 60) \n",
        "\treturn \"%02d min %02d sec\" % (min, sec) \n",
        "\n",
        "# Song numbers and duration\n",
        "nbchansons = random.randint(9,13) # Random song number\n",
        "nbfaceB = ceil(nbchansons/2) # Number of songs on side B of the record (there is usually more songs on side B than on side A)\n",
        "nbfaceA = nbchansons - nbfaceB # Remaining number of songs (which is the number of songs on side A)\n",
        "\n",
        "maxfaceA = random.randint(1006,1434) # Duration of side A in seconds\n",
        "maxfaceB = random.randint(1080,1498) # Duration of side B in seconds\n",
        "cfaceA = 1 # number of the song for side A (unused, is now 'songnumber')\n",
        "cfaceB = 1 # same thing but for side B (unused,is now 'songnumber' too) \n",
        "chansonmax = random.randint(229,500) # duration of one song in seconds\n",
        "\n",
        "faceA = multinomial(maxfaceA, [1/nbfaceA] * nbfaceA) # A function that gives each song a duration in a way that their total duration doesn't exceed the maximum duration of one side\n",
        "faceB = multinomial(maxfaceB, [1/nbfaceB] * nbfaceB) # same thing, but for side B\n",
        "songnumber = 0 # Variable used for referencing the durations of the songs in the list given by the above function.\n",
        "\n",
        "# haha album machine goes brrr (final render)\n",
        "# Side A\n",
        "\n",
        "def chansonA():\n",
        "    global songnumber\n",
        "    global nbfaceA\n",
        "    for i in range (nbfaceA):\n",
        "        print(\"Song title:\", titre_model.make_sentence(tries=1000)) # Prints the song title\n",
        "        print(\" \")\n",
        "        print(\"Song duration:\",convert(faceA[songnumber])) # Prints the song duration, taken and converted from the 'faceA' array\n",
        "        print(\" \")\n",
        "        songnumber = songnumber + 1 # Add one to the variable to grab the duration of the next song\n",
        "        print(\"Lyrics :\")                        #                      #\n",
        "        print(\" \")                               #                      #\n",
        "        for i in range(random.randint(15, 35)):  # Prints the lyrics    #\n",
        "            print(paroles_model.make_sentence()) #                      #\n",
        "        print(\" \")\n",
        "        print(\" \")\n",
        "\n",
        "# Side B\n",
        "        \n",
        "def chansonB():\n",
        "    global songnumber\n",
        "    global nbfaceB\n",
        "    for i in range (nbfaceB):\n",
        "        print(\"Song title:\", titre_model.make_sentence(tries=1000))\n",
        "        print(\" \")                                                  #***************************#\n",
        "        print(\"Song duration:\",convert(faceB[songnumber]))          #                           #\n",
        "        print(\" \")                                                  #                           #                                                  #                           #\n",
        "        songnumber = songnumber + 1                                 #  Same as side A,          #\n",
        "        print(\"Lyrics :\")                                           #  but for side B.          #\n",
        "        print(\" \")                                                  #                           #\n",
        "        for i in range(random.randint(15, 35)):                     #                           #\n",
        "            print(paroles_model.make_sentence())                    #***************************#\n",
        "        print(\" \")\n",
        "        print(\" \")\n",
        "\n",
        "\n",
        "#@markdown Album Info\n",
        "print(album_model.make_sentence(tries=1000)) # Generates an album title\n",
        "print(\"Year:\", random.randint(1973, 1991)) # Generates a year\n",
        "print(\" \")\n",
        "print(\"SIDE A -\",nbfaceA,\"songs --- Duration :\",convert(maxfaceA)) # Prints the duration and the number of songs on side A\n",
        "print(\" \")\n",
        "print(\"SIDE B -\",nbfaceB,\"songs --- Duration :\",convert(maxfaceB)) # Same thing as side A\n",
        "print(\" \")\n",
        "print(\"Total length of the album :\",convert(maxfaceA + maxfaceB))\n",
        "\n",
        "#print(\" \")\n",
        "#chansonA()\n",
        "#songnumber=0 # Resets the variable because the durations of the songs on side B is in a separate array\n",
        "#print(\" \")\n",
        "#chansonB()"
      ],
      "execution_count": null,
      "outputs": []
    },
    {
      "cell_type": "code",
      "metadata": {
        "cellView": "form",
        "id": "VTQtkwgxVoDY"
      },
      "source": [
        "#@title Generated songs\r\n",
        "#@Markdown \r\n",
        "print(\"SIDE A:\")\r\n",
        "print(\" \")\r\n",
        "chansonA()\r\n",
        "songnumber=0 # Resets the variable because the durations of the songs on side B is in a separate array\r\n",
        "print(\"SIDE B:\") # Same thing as side A\r\n",
        "print(\" \")\r\n",
        "chansonB()"
      ],
      "execution_count": null,
      "outputs": []
    }
  ]
}